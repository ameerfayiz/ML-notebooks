{
  "nbformat": 4,
  "nbformat_minor": 0,
  "metadata": {
    "colab": {
      "provenance": [],
      "authorship_tag": "ABX9TyPuD2McrZktxpl/NqAKummu",
      "include_colab_link": true
    },
    "kernelspec": {
      "name": "python3",
      "display_name": "Python 3"
    },
    "language_info": {
      "name": "python"
    }
  },
  "cells": [
    {
      "cell_type": "markdown",
      "metadata": {
        "id": "view-in-github",
        "colab_type": "text"
      },
      "source": [
        "<a href=\"https://colab.research.google.com/github/ameerfayiz/ML-notebooks/blob/main/english_pos_flair.ipynb\" target=\"_parent\"><img src=\"https://colab.research.google.com/assets/colab-badge.svg\" alt=\"Open In Colab\"/></a>"
      ]
    },
    {
      "cell_type": "code",
      "execution_count": null,
      "metadata": {
        "id": "u78gnsGtxEIo"
      },
      "outputs": [],
      "source": [
        "# ref : https://huggingface.co/flair/pos-english?text=Woke+up+at+06%3A00+to+work+on+a+new+blog+post+-+Went+to+the+gym+at+12%3A00+for+a+cardio+workout\n",
        "\n",
        "# TAG MEANINGS FOR REFERENCE :\n",
        "# tag\tmeaning\n",
        "# ADD\tEmail\n",
        "# AFX\tAffix\n",
        "# CC\tCoordinating conjunction\n",
        "# CD\tCardinal number\n",
        "# DT\tDeterminer\n",
        "# EX\tExistential there\n",
        "# FW\tForeign word\n",
        "# HYPH\tHyphen\n",
        "# IN\tPreposition or subordinating conjunction\n",
        "# JJ\tAdjective\n",
        "# JJR\tAdjective, comparative\n",
        "# JJS\tAdjective, superlative\n",
        "# LS\tList item marker\n",
        "# MD\tModal\n",
        "# NFP\tSuperfluous punctuation\n",
        "# NN\tNoun, singular or mass\n",
        "# NNP\tProper noun, singular\n",
        "# NNPS\tProper noun, plural\n",
        "# NNS\tNoun, plural\n",
        "# PDT\tPredeterminer\n",
        "# POS\tPossessive ending\n",
        "# PRP\tPersonal pronoun\n",
        "# PRP$\tPossessive pronoun\n",
        "# RB\tAdverb\n",
        "# RBR\tAdverb, comparative\n",
        "# RBS\tAdverb, superlative\n",
        "# RP\tParticle\n",
        "# SYM\tSymbol\n",
        "# TO\tto\n",
        "# UH\tInterjection\n",
        "# VB\tVerb, base form\n",
        "# VBD\tVerb, past tense\n",
        "# VBG\tVerb, gerund or present participle\n",
        "# VBN\tVerb, past participle\n",
        "# VBP\tVerb, non-3rd person singular present\n",
        "# VBZ\tVerb, 3rd person singular present\n",
        "# WDT\tWh-determiner\n",
        "# WP\tWh-pronoun\n",
        "# WP$\tPossessive wh-pronoun\n",
        "# WRB\tWh-adverb\n",
        "# XX\tUnknown"
      ]
    },
    {
      "cell_type": "code",
      "source": [
        "!pip install flair"
      ],
      "metadata": {
        "colab": {
          "base_uri": "https://localhost:8080/"
        },
        "id": "8snaT3hzxXsk",
        "outputId": "8160f0c1-b724-427b-e3cb-57962153aa7e"
      },
      "execution_count": 1,
      "outputs": [
        {
          "output_type": "stream",
          "name": "stdout",
          "text": [
            "Looking in indexes: https://pypi.org/simple, https://us-python.pkg.dev/colab-wheels/public/simple/\n",
            "Collecting flair\n",
            "  Downloading flair-0.11.3-py3-none-any.whl (401 kB)\n",
            "\u001b[2K     \u001b[90m━━━━━━━━━━━━━━━━━━━━━━━━━━━━━━━━━━━━━━━\u001b[0m \u001b[32m401.9/401.9 KB\u001b[0m \u001b[31m6.9 MB/s\u001b[0m eta \u001b[36m0:00:00\u001b[0m\n",
            "\u001b[?25hRequirement already satisfied: lxml in /usr/local/lib/python3.8/dist-packages (from flair) (4.9.2)\n",
            "Collecting wikipedia-api\n",
            "  Downloading Wikipedia_API-0.5.8-py3-none-any.whl (13 kB)\n",
            "Requirement already satisfied: torch!=1.8,>=1.5.0 in /usr/local/lib/python3.8/dist-packages (from flair) (1.13.1+cu116)\n",
            "Collecting segtok>=1.5.7\n",
            "  Downloading segtok-1.5.11-py3-none-any.whl (24 kB)\n",
            "Collecting mpld3==0.3\n",
            "  Downloading mpld3-0.3.tar.gz (788 kB)\n",
            "\u001b[2K     \u001b[90m━━━━━━━━━━━━━━━━━━━━━━━━━━━━━━━━━━━━━━\u001b[0m \u001b[32m788.5/788.5 KB\u001b[0m \u001b[31m23.8 MB/s\u001b[0m eta \u001b[36m0:00:00\u001b[0m\n",
            "\u001b[?25h  Preparing metadata (setup.py) ... \u001b[?25l\u001b[?25hdone\n",
            "Requirement already satisfied: python-dateutil>=2.6.1 in /usr/local/lib/python3.8/dist-packages (from flair) (2.8.2)\n",
            "Requirement already satisfied: tabulate in /usr/local/lib/python3.8/dist-packages (from flair) (0.8.10)\n",
            "Requirement already satisfied: matplotlib>=2.2.3 in /usr/local/lib/python3.8/dist-packages (from flair) (3.2.2)\n",
            "Requirement already satisfied: scikit-learn>=0.21.3 in /usr/local/lib/python3.8/dist-packages (from flair) (1.0.2)\n",
            "Collecting sentencepiece==0.1.95\n",
            "  Downloading sentencepiece-0.1.95-cp38-cp38-manylinux2014_x86_64.whl (1.2 MB)\n",
            "\u001b[2K     \u001b[90m━━━━━━━━━━━━━━━━━━━━━━━━━━━━━━━━━━━━━━━━\u001b[0m \u001b[32m1.2/1.2 MB\u001b[0m \u001b[31m26.9 MB/s\u001b[0m eta \u001b[36m0:00:00\u001b[0m\n",
            "\u001b[?25hCollecting ftfy\n",
            "  Downloading ftfy-6.1.1-py3-none-any.whl (53 kB)\n",
            "\u001b[2K     \u001b[90m━━━━━━━━━━━━━━━━━━━━━━━━━━━━━━━━━━━━━━━━\u001b[0m \u001b[32m53.1/53.1 KB\u001b[0m \u001b[31m3.1 MB/s\u001b[0m eta \u001b[36m0:00:00\u001b[0m\n",
            "\u001b[?25hCollecting huggingface-hub\n",
            "  Downloading huggingface_hub-0.12.0-py3-none-any.whl (190 kB)\n",
            "\u001b[2K     \u001b[90m━━━━━━━━━━━━━━━━━━━━━━━━━━━━━━━━━━━━━━\u001b[0m \u001b[32m190.3/190.3 KB\u001b[0m \u001b[31m10.1 MB/s\u001b[0m eta \u001b[36m0:00:00\u001b[0m\n",
            "\u001b[?25hCollecting hyperopt>=0.2.7\n",
            "  Downloading hyperopt-0.2.7-py2.py3-none-any.whl (1.6 MB)\n",
            "\u001b[2K     \u001b[90m━━━━━━━━━━━━━━━━━━━━━━━━━━━━━━━━━━━━━━━━\u001b[0m \u001b[32m1.6/1.6 MB\u001b[0m \u001b[31m40.6 MB/s\u001b[0m eta \u001b[36m0:00:00\u001b[0m\n",
            "\u001b[?25hCollecting bpemb>=0.3.2\n",
            "  Downloading bpemb-0.3.4-py3-none-any.whl (19 kB)\n",
            "Collecting pptree\n",
            "  Downloading pptree-3.1.tar.gz (3.0 kB)\n",
            "  Preparing metadata (setup.py) ... \u001b[?25l\u001b[?25hdone\n",
            "Requirement already satisfied: more-itertools in /usr/local/lib/python3.8/dist-packages (from flair) (9.0.0)\n",
            "Collecting konoha<5.0.0,>=4.0.0\n",
            "  Downloading konoha-4.6.5-py3-none-any.whl (20 kB)\n",
            "Collecting langdetect\n",
            "  Downloading langdetect-1.0.9.tar.gz (981 kB)\n",
            "\u001b[2K     \u001b[90m━━━━━━━━━━━━━━━━━━━━━━━━━━━━━━━━━━━━━━\u001b[0m \u001b[32m981.5/981.5 KB\u001b[0m \u001b[31m11.9 MB/s\u001b[0m eta \u001b[36m0:00:00\u001b[0m\n",
            "\u001b[?25h  Preparing metadata (setup.py) ... \u001b[?25l\u001b[?25hdone\n",
            "Collecting deprecated>=1.2.4\n",
            "  Downloading Deprecated-1.2.13-py2.py3-none-any.whl (9.6 kB)\n",
            "Collecting conllu>=4.0\n",
            "  Downloading conllu-4.5.2-py2.py3-none-any.whl (16 kB)\n",
            "Requirement already satisfied: tqdm>=4.26.0 in /usr/local/lib/python3.8/dist-packages (from flair) (4.64.1)\n",
            "Requirement already satisfied: regex in /usr/local/lib/python3.8/dist-packages (from flair) (2022.6.2)\n",
            "Requirement already satisfied: gensim>=3.4.0 in /usr/local/lib/python3.8/dist-packages (from flair) (3.6.0)\n",
            "Collecting janome\n",
            "  Downloading Janome-0.4.2-py2.py3-none-any.whl (19.7 MB)\n",
            "\u001b[2K     \u001b[90m━━━━━━━━━━━━━━━━━━━━━━━━━━━━━━━━━━━━━━━━\u001b[0m \u001b[32m19.7/19.7 MB\u001b[0m \u001b[31m15.4 MB/s\u001b[0m eta \u001b[36m0:00:00\u001b[0m\n",
            "\u001b[?25hCollecting transformers>=4.0.0\n",
            "  Downloading transformers-4.26.0-py3-none-any.whl (6.3 MB)\n",
            "\u001b[2K     \u001b[90m━━━━━━━━━━━━━━━━━━━━━━━━━━━━━━━━━━━━━━━━\u001b[0m \u001b[32m6.3/6.3 MB\u001b[0m \u001b[31m47.1 MB/s\u001b[0m eta \u001b[36m0:00:00\u001b[0m\n",
            "\u001b[?25hRequirement already satisfied: gdown==4.4.0 in /usr/local/lib/python3.8/dist-packages (from flair) (4.4.0)\n",
            "Collecting sqlitedict>=1.6.0\n",
            "  Downloading sqlitedict-2.1.0.tar.gz (21 kB)\n",
            "  Preparing metadata (setup.py) ... \u001b[?25l\u001b[?25hdone\n",
            "Requirement already satisfied: six in /usr/local/lib/python3.8/dist-packages (from gdown==4.4.0->flair) (1.15.0)\n",
            "Requirement already satisfied: filelock in /usr/local/lib/python3.8/dist-packages (from gdown==4.4.0->flair) (3.9.0)\n",
            "Requirement already satisfied: requests[socks] in /usr/local/lib/python3.8/dist-packages (from gdown==4.4.0->flair) (2.25.1)\n",
            "Requirement already satisfied: beautifulsoup4 in /usr/local/lib/python3.8/dist-packages (from gdown==4.4.0->flair) (4.6.3)\n",
            "Requirement already satisfied: numpy in /usr/local/lib/python3.8/dist-packages (from bpemb>=0.3.2->flair) (1.21.6)\n",
            "Requirement already satisfied: wrapt<2,>=1.10 in /usr/local/lib/python3.8/dist-packages (from deprecated>=1.2.4->flair) (1.14.1)\n",
            "Requirement already satisfied: smart-open>=1.2.1 in /usr/local/lib/python3.8/dist-packages (from gensim>=3.4.0->flair) (6.3.0)\n",
            "Requirement already satisfied: scipy>=0.18.1 in /usr/local/lib/python3.8/dist-packages (from gensim>=3.4.0->flair) (1.7.3)\n",
            "Requirement already satisfied: networkx>=2.2 in /usr/local/lib/python3.8/dist-packages (from hyperopt>=0.2.7->flair) (3.0)\n",
            "Requirement already satisfied: future in /usr/local/lib/python3.8/dist-packages (from hyperopt>=0.2.7->flair) (0.16.0)\n",
            "Requirement already satisfied: cloudpickle in /usr/local/lib/python3.8/dist-packages (from hyperopt>=0.2.7->flair) (2.2.0)\n",
            "Collecting py4j\n",
            "  Downloading py4j-0.10.9.7-py2.py3-none-any.whl (200 kB)\n",
            "\u001b[2K     \u001b[90m━━━━━━━━━━━━━━━━━━━━━━━━━━━━━━━━━━━━━━━\u001b[0m \u001b[32m200.5/200.5 KB\u001b[0m \u001b[31m9.7 MB/s\u001b[0m eta \u001b[36m0:00:00\u001b[0m\n",
            "\u001b[?25hCollecting overrides<4.0.0,>=3.0.0\n",
            "  Downloading overrides-3.1.0.tar.gz (11 kB)\n",
            "  Preparing metadata (setup.py) ... \u001b[?25l\u001b[?25hdone\n",
            "Collecting importlib-metadata<4.0.0,>=3.7.0\n",
            "  Downloading importlib_metadata-3.10.1-py3-none-any.whl (14 kB)\n",
            "Requirement already satisfied: cycler>=0.10 in /usr/local/lib/python3.8/dist-packages (from matplotlib>=2.2.3->flair) (0.11.0)\n",
            "Requirement already satisfied: kiwisolver>=1.0.1 in /usr/local/lib/python3.8/dist-packages (from matplotlib>=2.2.3->flair) (1.4.4)\n",
            "Requirement already satisfied: pyparsing!=2.0.4,!=2.1.2,!=2.1.6,>=2.0.1 in /usr/local/lib/python3.8/dist-packages (from matplotlib>=2.2.3->flair) (3.0.9)\n",
            "Requirement already satisfied: threadpoolctl>=2.0.0 in /usr/local/lib/python3.8/dist-packages (from scikit-learn>=0.21.3->flair) (3.1.0)\n",
            "Requirement already satisfied: joblib>=0.11 in /usr/local/lib/python3.8/dist-packages (from scikit-learn>=0.21.3->flair) (1.2.0)\n",
            "Requirement already satisfied: typing-extensions in /usr/local/lib/python3.8/dist-packages (from torch!=1.8,>=1.5.0->flair) (4.4.0)\n",
            "Requirement already satisfied: pyyaml>=5.1 in /usr/local/lib/python3.8/dist-packages (from transformers>=4.0.0->flair) (6.0)\n",
            "Collecting tokenizers!=0.11.3,<0.14,>=0.11.1\n",
            "  Downloading tokenizers-0.13.2-cp38-cp38-manylinux_2_17_x86_64.manylinux2014_x86_64.whl (7.6 MB)\n",
            "\u001b[2K     \u001b[90m━━━━━━━━━━━━━━━━━━━━━━━━━━━━━━━━━━━━━━━━\u001b[0m \u001b[32m7.6/7.6 MB\u001b[0m \u001b[31m47.5 MB/s\u001b[0m eta \u001b[36m0:00:00\u001b[0m\n",
            "\u001b[?25hRequirement already satisfied: packaging>=20.0 in /usr/local/lib/python3.8/dist-packages (from transformers>=4.0.0->flair) (21.3)\n",
            "Requirement already satisfied: wcwidth>=0.2.5 in /usr/local/lib/python3.8/dist-packages (from ftfy->flair) (0.2.5)\n",
            "Requirement already satisfied: zipp>=0.5 in /usr/local/lib/python3.8/dist-packages (from importlib-metadata<4.0.0,>=3.7.0->konoha<5.0.0,>=4.0.0->flair) (3.11.0)\n",
            "Requirement already satisfied: idna<3,>=2.5 in /usr/local/lib/python3.8/dist-packages (from requests[socks]->gdown==4.4.0->flair) (2.10)\n",
            "Requirement already satisfied: certifi>=2017.4.17 in /usr/local/lib/python3.8/dist-packages (from requests[socks]->gdown==4.4.0->flair) (2022.12.7)\n",
            "Requirement already satisfied: urllib3<1.27,>=1.21.1 in /usr/local/lib/python3.8/dist-packages (from requests[socks]->gdown==4.4.0->flair) (1.24.3)\n",
            "Requirement already satisfied: chardet<5,>=3.0.2 in /usr/local/lib/python3.8/dist-packages (from requests[socks]->gdown==4.4.0->flair) (4.0.0)\n",
            "Requirement already satisfied: PySocks!=1.5.7,>=1.5.6 in /usr/local/lib/python3.8/dist-packages (from requests[socks]->gdown==4.4.0->flair) (1.7.1)\n",
            "Building wheels for collected packages: mpld3, sqlitedict, langdetect, pptree, overrides\n",
            "  Building wheel for mpld3 (setup.py) ... \u001b[?25l\u001b[?25hdone\n",
            "  Created wheel for mpld3: filename=mpld3-0.3-py3-none-any.whl size=116702 sha256=cbdaa44dbc7f426d83ead5f1f34ba9ba7acaf00cc67d06735c34a34ac054daa6\n",
            "  Stored in directory: /root/.cache/pip/wheels/3d/9f/9d/d806a20bd97bc7076d724fa3e69fa5be61836ba16b2ffa6126\n",
            "  Building wheel for sqlitedict (setup.py) ... \u001b[?25l\u001b[?25hdone\n",
            "  Created wheel for sqlitedict: filename=sqlitedict-2.1.0-py3-none-any.whl size=16869 sha256=5683921ab9cbdadee8f75a873ef17564c229652a9a9d91a8b1cd68365af39555\n",
            "  Stored in directory: /root/.cache/pip/wheels/04/c6/16/46e174009277f9bccdaa7215a243939d2f70180804b249bf3a\n",
            "  Building wheel for langdetect (setup.py) ... \u001b[?25l\u001b[?25hdone\n",
            "  Created wheel for langdetect: filename=langdetect-1.0.9-py3-none-any.whl size=993242 sha256=83ad6b275957cd0ac1b51b74c64e20afeb269cb9aa5d84b7d3c3d78e15d446ab\n",
            "  Stored in directory: /root/.cache/pip/wheels/13/c7/b0/79f66658626032e78fc1a83103690ef6797d551cb22e56e734\n",
            "  Building wheel for pptree (setup.py) ... \u001b[?25l\u001b[?25hdone\n",
            "  Created wheel for pptree: filename=pptree-3.1-py3-none-any.whl size=4629 sha256=205dac3f67f9a3931460ee28ca301689e20e65e1979e742d7c05905a82c2b3d1\n",
            "  Stored in directory: /root/.cache/pip/wheels/e1/8b/30/5b20240d3d13a9dfafb6a6dd49d1b541c86d39812cb3690edf\n",
            "  Building wheel for overrides (setup.py) ... \u001b[?25l\u001b[?25hdone\n",
            "  Created wheel for overrides: filename=overrides-3.1.0-py3-none-any.whl size=10187 sha256=40b405427089f9ec9cb7e45eeab57ea8d6a5260fd31fc8dec51f9630fda1c77e\n",
            "  Stored in directory: /root/.cache/pip/wheels/6a/4f/72/28857f75625b263e2e3f5ab2fc4416c0a85960ac6485007eaa\n",
            "Successfully built mpld3 sqlitedict langdetect pptree overrides\n",
            "Installing collected packages: tokenizers, sqlitedict, sentencepiece, py4j, pptree, overrides, mpld3, janome, segtok, langdetect, importlib-metadata, ftfy, deprecated, conllu, wikipedia-api, konoha, hyperopt, huggingface-hub, transformers, bpemb, flair\n",
            "  Attempting uninstall: importlib-metadata\n",
            "    Found existing installation: importlib-metadata 6.0.0\n",
            "    Uninstalling importlib-metadata-6.0.0:\n",
            "      Successfully uninstalled importlib-metadata-6.0.0\n",
            "  Attempting uninstall: hyperopt\n",
            "    Found existing installation: hyperopt 0.1.2\n",
            "    Uninstalling hyperopt-0.1.2:\n",
            "      Successfully uninstalled hyperopt-0.1.2\n",
            "\u001b[31mERROR: pip's dependency resolver does not currently take into account all the packages that are installed. This behaviour is the source of the following dependency conflicts.\n",
            "markdown 3.4.1 requires importlib-metadata>=4.4; python_version < \"3.10\", but you have importlib-metadata 3.10.1 which is incompatible.\n",
            "gym 0.25.2 requires importlib-metadata>=4.8.0; python_version < \"3.10\", but you have importlib-metadata 3.10.1 which is incompatible.\u001b[0m\u001b[31m\n",
            "\u001b[0mSuccessfully installed bpemb-0.3.4 conllu-4.5.2 deprecated-1.2.13 flair-0.11.3 ftfy-6.1.1 huggingface-hub-0.12.0 hyperopt-0.2.7 importlib-metadata-3.10.1 janome-0.4.2 konoha-4.6.5 langdetect-1.0.9 mpld3-0.3 overrides-3.1.0 pptree-3.1 py4j-0.10.9.7 segtok-1.5.11 sentencepiece-0.1.95 sqlitedict-2.1.0 tokenizers-0.13.2 transformers-4.26.0 wikipedia-api-0.5.8\n"
          ]
        }
      ]
    },
    {
      "cell_type": "code",
      "source": [
        "from flair.data import Sentence\n",
        "from flair.models import SequenceTagger\n",
        "\n",
        "# load tagger\n",
        "tagger = SequenceTagger.load(\"flair/pos-english\")         #normal 250 mb   \n",
        "# tagger = SequenceTagger.load(\"flair/pos-english-fast\")         #normal 75 mb  \n",
        "\n",
        "print(\"Model loaded fella, do whateva now!\")\n",
        "\n"
      ],
      "metadata": {
        "colab": {
          "base_uri": "https://localhost:8080/"
        },
        "id": "JS1VCPvHxcr4",
        "outputId": "055fa579-a004-42cd-cdb7-147144f12700"
      },
      "execution_count": 20,
      "outputs": [
        {
          "output_type": "stream",
          "name": "stdout",
          "text": [
            "2023-02-01 02:33:50,382 loading file /root/.flair/models/pos-english/a9a73f6cd878edce8a0fa518db76f441f1cc49c2525b2b4557af278ec2f0659e.121306ea62993d04cd1978398b68396931a39eb47754c8a06a87f325ea70ac63\n"
          ]
        },
        {
          "output_type": "stream",
          "name": "stderr",
          "text": [
            "/usr/local/lib/python3.8/dist-packages/huggingface_hub/file_download.py:629: FutureWarning: `cached_download` is the legacy way to download files from the HF hub, please consider upgrading to `hf_hub_download`\n",
            "  warnings.warn(\n"
          ]
        },
        {
          "output_type": "stream",
          "name": "stdout",
          "text": [
            "2023-02-01 02:33:50,630 SequenceTagger predicts: Dictionary with 53 tags: <unk>, O, UH, ,, VBD, PRP, VB, PRP$, NN, RB, ., DT, JJ, VBP, VBG, IN, CD, NNS, NNP, WRB, VBZ, WDT, CC, TO, MD, VBN, WP, :, RP, EX, JJR, FW, XX, HYPH, POS, RBR, JJS, PDT, NNPS, RBS, AFX, WP$, -LRB-, -RRB-, ``, '', LS, $, SYM, ADD\n",
            "Model loaded fella, do whateva now!\n"
          ]
        }
      ]
    },
    {
      "cell_type": "code",
      "source": [
        "def parse(text):\n",
        "  # make example sentence\n",
        "  sentence = Sentence(text)\n",
        "  # predict NER tags\n",
        "  tagger.predict(sentence)\n",
        "  # print sentence\n",
        "  print(sentence)\n",
        "  # print predicted NER spans\n",
        "  print('The following NER tags are found:')\n",
        "  # iterate over entities and print\n",
        "  for entity in sentence.get_labels():\n",
        "      print(entity)\n",
        "  return sentence"
      ],
      "metadata": {
        "id": "wWLyPD99zgCQ"
      },
      "execution_count": 21,
      "outputs": []
    },
    {
      "cell_type": "code",
      "source": [
        "res = parse(text = \"I am meeting my friend today at the park. We will meet tomorrow at 4 PM. i wish my exams where next month. but it 3rd this week\")"
      ],
      "metadata": {
        "colab": {
          "base_uri": "https://localhost:8080/"
        },
        "id": "QUFMVpiZx2Vz",
        "outputId": "9c6754b9-ff28-4296-da48-cbdd5334f62b"
      },
      "execution_count": 22,
      "outputs": [
        {
          "output_type": "stream",
          "name": "stdout",
          "text": [
            "Sentence: \"I am meeting my friend today at the park . We will meet tomorrow at 4 PM . i wish my exams where next month . but it 3rd this week\" → [\"I\"/PRP, \"am\"/VBP, \"meeting\"/VBG, \"my\"/PRP$, \"friend\"/NN, \"today\"/NN, \"at\"/IN, \"the\"/DT, \"park\"/NN, \".\"/., \"We\"/PRP, \"will\"/MD, \"meet\"/VB, \"tomorrow\"/NN, \"at\"/IN, \"4\"/CD, \"PM\"/NN, \".\"/., \"i\"/PRP, \"wish\"/VBP, \"my\"/PRP$, \"exams\"/NNS, \"where\"/WRB, \"next\"/JJ, \"month\"/NN, \".\"/., \"but\"/CC, \"it\"/PRP, \"3rd\"/VBD, \"this\"/DT, \"week\"/NN]\n",
            "The following NER tags are found:\n",
            "Token[0]: \"I\" → PRP (1.0)\n",
            "Token[1]: \"am\" → VBP (1.0)\n",
            "Token[2]: \"meeting\" → VBG (1.0)\n",
            "Token[3]: \"my\" → PRP$ (1.0)\n",
            "Token[4]: \"friend\" → NN (1.0)\n",
            "Token[5]: \"today\" → NN (1.0)\n",
            "Token[6]: \"at\" → IN (1.0)\n",
            "Token[7]: \"the\" → DT (1.0)\n",
            "Token[8]: \"park\" → NN (1.0)\n",
            "Token[9]: \".\" → . (0.9835)\n",
            "Token[10]: \"We\" → PRP (1.0)\n",
            "Token[11]: \"will\" → MD (1.0)\n",
            "Token[12]: \"meet\" → VB (0.9999)\n",
            "Token[13]: \"tomorrow\" → NN (1.0)\n",
            "Token[14]: \"at\" → IN (1.0)\n",
            "Token[15]: \"4\" → CD (1.0)\n",
            "Token[16]: \"PM\" → NN (0.9999)\n",
            "Token[17]: \".\" → . (1.0)\n",
            "Token[18]: \"i\" → PRP (1.0)\n",
            "Token[19]: \"wish\" → VBP (0.9985)\n",
            "Token[20]: \"my\" → PRP$ (1.0)\n",
            "Token[21]: \"exams\" → NNS (1.0)\n",
            "Token[22]: \"where\" → WRB (1.0)\n",
            "Token[23]: \"next\" → JJ (0.9976)\n",
            "Token[24]: \"month\" → NN (1.0)\n",
            "Token[25]: \".\" → . (0.998)\n",
            "Token[26]: \"but\" → CC (0.9987)\n",
            "Token[27]: \"it\" → PRP (1.0)\n",
            "Token[28]: \"3rd\" → VBD (0.493)\n",
            "Token[29]: \"this\" → DT (1.0)\n",
            "Token[30]: \"week\" → NN (1.0)\n"
          ]
        }
      ]
    },
    {
      "cell_type": "code",
      "source": [
        "parse(\"I'm meeting my friend tdy at the park. We will meet tmrw at 4 PM\")"
      ],
      "metadata": {
        "colab": {
          "base_uri": "https://localhost:8080/"
        },
        "id": "66mMzX49yvCR",
        "outputId": "431ef091-5ca8-4b6b-9803-d565ca89240b"
      },
      "execution_count": 19,
      "outputs": [
        {
          "output_type": "stream",
          "name": "stdout",
          "text": [
            "Sentence: \"I 'm meeting my friend tdy at the park . We will meet tmrw at 4 PM\" → [\"I\"/PRP, \"'m\"/VBP, \"meeting\"/VBG, \"my\"/PRP$, \"friend\"/NN, \"tdy\"/NN, \"at\"/IN, \"the\"/DT, \"park\"/NN, \".\"/., \"We\"/PRP, \"will\"/MD, \"meet\"/VB, \"tmrw\"/NN, \"at\"/IN, \"4\"/CD, \"PM\"/NN]\n",
            "The following NER tags are found:\n",
            "Token[0]: \"I\" → PRP (1.0)\n",
            "Token[1]: \"'m\" → VBP (1.0)\n",
            "Token[2]: \"meeting\" → VBG (1.0)\n",
            "Token[3]: \"my\" → PRP$ (1.0)\n",
            "Token[4]: \"friend\" → NN (0.9997)\n",
            "Token[5]: \"tdy\" → NN (0.8969)\n",
            "Token[6]: \"at\" → IN (1.0)\n",
            "Token[7]: \"the\" → DT (1.0)\n",
            "Token[8]: \"park\" → NN (0.9999)\n",
            "Token[9]: \".\" → . (0.843)\n",
            "Token[10]: \"We\" → PRP (1.0)\n",
            "Token[11]: \"will\" → MD (1.0)\n",
            "Token[12]: \"meet\" → VB (0.9999)\n",
            "Token[13]: \"tmrw\" → NN (0.9736)\n",
            "Token[14]: \"at\" → IN (0.9999)\n",
            "Token[15]: \"4\" → CD (0.9999)\n",
            "Token[16]: \"PM\" → NN (0.9977)\n"
          ]
        },
        {
          "output_type": "execute_result",
          "data": {
            "text/plain": [
              "Sentence: \"I 'm meeting my friend tdy at the park . We will meet tmrw at 4 PM\" → [\"I\"/PRP, \"'m\"/VBP, \"meeting\"/VBG, \"my\"/PRP$, \"friend\"/NN, \"tdy\"/NN, \"at\"/IN, \"the\"/DT, \"park\"/NN, \".\"/., \"We\"/PRP, \"will\"/MD, \"meet\"/VB, \"tmrw\"/NN, \"at\"/IN, \"4\"/CD, \"PM\"/NN]"
            ]
          },
          "metadata": {},
          "execution_count": 19
        }
      ]
    }
  ]
}