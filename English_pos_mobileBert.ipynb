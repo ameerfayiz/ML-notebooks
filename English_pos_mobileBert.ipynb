{
  "nbformat": 4,
  "nbformat_minor": 0,
  "metadata": {
    "colab": {
      "provenance": [],
      "authorship_tag": "ABX9TyN7XWENzkullLkphJh1cRVt",
      "include_colab_link": true
    },
    "kernelspec": {
      "name": "python3",
      "display_name": "Python 3"
    },
    "language_info": {
      "name": "python"
    }
  },
  "cells": [
    {
      "cell_type": "markdown",
      "metadata": {
        "id": "view-in-github",
        "colab_type": "text"
      },
      "source": [
        "<a href=\"https://colab.research.google.com/github/ameerfayiz/ML-notebooks/blob/main/English_pos_mobileBert.ipynb\" target=\"_parent\"><img src=\"https://colab.research.google.com/assets/colab-badge.svg\" alt=\"Open In Colab\"/></a>"
      ]
    },
    {
      "cell_type": "code",
      "source": [
        "!pip install transformers"
      ],
      "metadata": {
        "colab": {
          "base_uri": "https://localhost:8080/"
        },
        "id": "HM4axJS5d6NB",
        "outputId": "d6e06c5f-a7ae-43f8-b806-0cb9eabf875a"
      },
      "execution_count": 1,
      "outputs": [
        {
          "output_type": "stream",
          "name": "stdout",
          "text": [
            "Looking in indexes: https://pypi.org/simple, https://us-python.pkg.dev/colab-wheels/public/simple/\n",
            "Collecting transformers\n",
            "  Downloading transformers-4.26.0-py3-none-any.whl (6.3 MB)\n",
            "\u001b[2K     \u001b[90m━━━━━━━━━━━━━━━━━━━━━━━━━━━━━━━━━━━━━━━━\u001b[0m \u001b[32m6.3/6.3 MB\u001b[0m \u001b[31m33.2 MB/s\u001b[0m eta \u001b[36m0:00:00\u001b[0m\n",
            "\u001b[?25hCollecting huggingface-hub<1.0,>=0.11.0\n",
            "  Downloading huggingface_hub-0.12.0-py3-none-any.whl (190 kB)\n",
            "\u001b[2K     \u001b[90m━━━━━━━━━━━━━━━━━━━━━━━━━━━━━━━━━━━━━━\u001b[0m \u001b[32m190.3/190.3 KB\u001b[0m \u001b[31m10.3 MB/s\u001b[0m eta \u001b[36m0:00:00\u001b[0m\n",
            "\u001b[?25hRequirement already satisfied: tqdm>=4.27 in /usr/local/lib/python3.8/dist-packages (from transformers) (4.64.1)\n",
            "Requirement already satisfied: requests in /usr/local/lib/python3.8/dist-packages (from transformers) (2.25.1)\n",
            "Requirement already satisfied: filelock in /usr/local/lib/python3.8/dist-packages (from transformers) (3.9.0)\n",
            "Requirement already satisfied: numpy>=1.17 in /usr/local/lib/python3.8/dist-packages (from transformers) (1.21.6)\n",
            "Collecting tokenizers!=0.11.3,<0.14,>=0.11.1\n",
            "  Downloading tokenizers-0.13.2-cp38-cp38-manylinux_2_17_x86_64.manylinux2014_x86_64.whl (7.6 MB)\n",
            "\u001b[2K     \u001b[90m━━━━━━━━━━━━━━━━━━━━━━━━━━━━━━━━━━━━━━━━\u001b[0m \u001b[32m7.6/7.6 MB\u001b[0m \u001b[31m60.4 MB/s\u001b[0m eta \u001b[36m0:00:00\u001b[0m\n",
            "\u001b[?25hRequirement already satisfied: pyyaml>=5.1 in /usr/local/lib/python3.8/dist-packages (from transformers) (6.0)\n",
            "Requirement already satisfied: packaging>=20.0 in /usr/local/lib/python3.8/dist-packages (from transformers) (21.3)\n",
            "Requirement already satisfied: regex!=2019.12.17 in /usr/local/lib/python3.8/dist-packages (from transformers) (2022.6.2)\n",
            "Requirement already satisfied: typing-extensions>=3.7.4.3 in /usr/local/lib/python3.8/dist-packages (from huggingface-hub<1.0,>=0.11.0->transformers) (4.4.0)\n",
            "Requirement already satisfied: pyparsing!=3.0.5,>=2.0.2 in /usr/local/lib/python3.8/dist-packages (from packaging>=20.0->transformers) (3.0.9)\n",
            "Requirement already satisfied: idna<3,>=2.5 in /usr/local/lib/python3.8/dist-packages (from requests->transformers) (2.10)\n",
            "Requirement already satisfied: chardet<5,>=3.0.2 in /usr/local/lib/python3.8/dist-packages (from requests->transformers) (4.0.0)\n",
            "Requirement already satisfied: certifi>=2017.4.17 in /usr/local/lib/python3.8/dist-packages (from requests->transformers) (2022.12.7)\n",
            "Requirement already satisfied: urllib3<1.27,>=1.21.1 in /usr/local/lib/python3.8/dist-packages (from requests->transformers) (1.24.3)\n",
            "Installing collected packages: tokenizers, huggingface-hub, transformers\n",
            "Successfully installed huggingface-hub-0.12.0 tokenizers-0.13.2 transformers-4.26.0\n"
          ]
        }
      ]
    },
    {
      "cell_type": "code",
      "execution_count": 4,
      "metadata": {
        "id": "XlTQZl6sd2kC"
      },
      "outputs": [],
      "source": [
        "from transformers import AutoTokenizer, AutoModelForTokenClassification , TokenClassificationPipeline\n",
        "\n",
        "tokenizer = AutoTokenizer.from_pretrained(\"mrm8488/mobilebert-finetuned-pos\")\n",
        "\n",
        "model = AutoModelForTokenClassification.from_pretrained(\"mrm8488/mobilebert-finetuned-pos\")\n",
        "\n",
        "pipeline = TokenClassificationPipeline(model=model, tokenizer=tokenizer)\n",
        "\n"
      ]
    },
    {
      "cell_type": "code",
      "source": [
        "outputs = pipeline(\"I attended a traditional Indian wedding ceremony with my cousin in Jaipur\")\n",
        "for part in outputs:\n",
        "  print(part)\n"
      ],
      "metadata": {
        "colab": {
          "base_uri": "https://localhost:8080/"
        },
        "id": "68BamXqMhXzD",
        "outputId": "a958c034-d946-4ae5-95b2-a048b993bce0"
      },
      "execution_count": 7,
      "outputs": [
        {
          "output_type": "stream",
          "name": "stdout",
          "text": [
            "{'entity': 'PRP', 'score': 0.85348415, 'index': 1, 'word': 'i', 'start': 0, 'end': 1}\n",
            "{'entity': 'VBD', 'score': 0.92295605, 'index': 2, 'word': 'attended', 'start': 2, 'end': 10}\n",
            "{'entity': 'DT', 'score': 0.98997307, 'index': 3, 'word': 'a', 'start': 11, 'end': 12}\n",
            "{'entity': 'JJ', 'score': 0.9059775, 'index': 4, 'word': 'traditional', 'start': 13, 'end': 24}\n",
            "{'entity': 'JJ', 'score': 0.9274597, 'index': 5, 'word': 'indian', 'start': 25, 'end': 31}\n",
            "{'entity': 'NN', 'score': 0.8274724, 'index': 6, 'word': 'wedding', 'start': 32, 'end': 39}\n",
            "{'entity': 'NN', 'score': 0.9844019, 'index': 7, 'word': 'ceremony', 'start': 40, 'end': 48}\n",
            "{'entity': 'IN', 'score': 0.9991749, 'index': 8, 'word': 'with', 'start': 49, 'end': 53}\n",
            "{'entity': 'PRP', 'score': 0.64824855, 'index': 9, 'word': 'my', 'start': 54, 'end': 56}\n",
            "{'entity': 'NN', 'score': 0.9575075, 'index': 10, 'word': 'cousin', 'start': 57, 'end': 63}\n",
            "{'entity': 'IN', 'score': 0.9991696, 'index': 11, 'word': 'in', 'start': 64, 'end': 66}\n",
            "{'entity': 'NNP', 'score': 0.7976907, 'index': 12, 'word': 'jaipur', 'start': 67, 'end': 73}\n"
          ]
        }
      ]
    }
  ]
}