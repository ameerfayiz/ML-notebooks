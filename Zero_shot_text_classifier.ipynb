{
  "nbformat": 4,
  "nbformat_minor": 0,
  "metadata": {
    "colab": {
      "provenance": [],
      "authorship_tag": "ABX9TyP5apmYPCMxjYgmGRBkayUF",
      "include_colab_link": true
    },
    "kernelspec": {
      "name": "python3",
      "display_name": "Python 3"
    },
    "language_info": {
      "name": "python"
    },
    "accelerator": "GPU",
    "gpuClass": "standard"
  },
  "cells": [
    {
      "cell_type": "markdown",
      "metadata": {
        "id": "view-in-github",
        "colab_type": "text"
      },
      "source": [
        "<a href=\"https://colab.research.google.com/github/ameerfayiz/ML-notebooks/blob/main/Zero_shot_text_classifier.ipynb\" target=\"_parent\"><img src=\"https://colab.research.google.com/assets/colab-badge.svg\" alt=\"Open In Colab\"/></a>"
      ]
    },
    {
      "cell_type": "code",
      "source": [
        "!pip install transformers\n",
        "!pip install sentencepiece"
      ],
      "metadata": {
        "colab": {
          "base_uri": "https://localhost:8080/"
        },
        "id": "XXfblNH1IpzT",
        "outputId": "5e362771-1192-48d2-b67e-3083cf10eba0"
      },
      "execution_count": 2,
      "outputs": [
        {
          "output_type": "stream",
          "name": "stdout",
          "text": [
            "Looking in indexes: https://pypi.org/simple, https://us-python.pkg.dev/colab-wheels/public/simple/\n",
            "Requirement already satisfied: transformers in /usr/local/lib/python3.8/dist-packages (4.26.0)\n",
            "Requirement already satisfied: tokenizers!=0.11.3,<0.14,>=0.11.1 in /usr/local/lib/python3.8/dist-packages (from transformers) (0.13.2)\n",
            "Requirement already satisfied: packaging>=20.0 in /usr/local/lib/python3.8/dist-packages (from transformers) (21.3)\n",
            "Requirement already satisfied: pyyaml>=5.1 in /usr/local/lib/python3.8/dist-packages (from transformers) (6.0)\n",
            "Requirement already satisfied: numpy>=1.17 in /usr/local/lib/python3.8/dist-packages (from transformers) (1.21.6)\n",
            "Requirement already satisfied: filelock in /usr/local/lib/python3.8/dist-packages (from transformers) (3.9.0)\n",
            "Requirement already satisfied: regex!=2019.12.17 in /usr/local/lib/python3.8/dist-packages (from transformers) (2022.6.2)\n",
            "Requirement already satisfied: huggingface-hub<1.0,>=0.11.0 in /usr/local/lib/python3.8/dist-packages (from transformers) (0.12.0)\n",
            "Requirement already satisfied: tqdm>=4.27 in /usr/local/lib/python3.8/dist-packages (from transformers) (4.64.1)\n",
            "Requirement already satisfied: requests in /usr/local/lib/python3.8/dist-packages (from transformers) (2.25.1)\n",
            "Requirement already satisfied: typing-extensions>=3.7.4.3 in /usr/local/lib/python3.8/dist-packages (from huggingface-hub<1.0,>=0.11.0->transformers) (4.4.0)\n",
            "Requirement already satisfied: pyparsing!=3.0.5,>=2.0.2 in /usr/local/lib/python3.8/dist-packages (from packaging>=20.0->transformers) (3.0.9)\n",
            "Requirement already satisfied: idna<3,>=2.5 in /usr/local/lib/python3.8/dist-packages (from requests->transformers) (2.10)\n",
            "Requirement already satisfied: certifi>=2017.4.17 in /usr/local/lib/python3.8/dist-packages (from requests->transformers) (2022.12.7)\n",
            "Requirement already satisfied: chardet<5,>=3.0.2 in /usr/local/lib/python3.8/dist-packages (from requests->transformers) (4.0.0)\n",
            "Requirement already satisfied: urllib3<1.27,>=1.21.1 in /usr/local/lib/python3.8/dist-packages (from requests->transformers) (1.24.3)\n",
            "Looking in indexes: https://pypi.org/simple, https://us-python.pkg.dev/colab-wheels/public/simple/\n",
            "Requirement already satisfied: sentencepiece in /usr/local/lib/python3.8/dist-packages (0.1.97)\n",
            "Looking in indexes: https://pypi.org/simple, https://us-python.pkg.dev/colab-wheels/public/simple/\n",
            "Requirement already satisfied: torchtyping in /usr/local/lib/python3.8/dist-packages (0.1.4)\n",
            "Requirement already satisfied: torch>=1.7.0 in /usr/local/lib/python3.8/dist-packages (from torchtyping) (1.13.1+cu116)\n",
            "Requirement already satisfied: typeguard>=2.11.1 in /usr/local/lib/python3.8/dist-packages (from torchtyping) (2.13.3)\n",
            "Requirement already satisfied: typing-extensions in /usr/local/lib/python3.8/dist-packages (from torch>=1.7.0->torchtyping) (4.4.0)\n",
            "Looking in indexes: https://pypi.org/simple, https://us-python.pkg.dev/colab-wheels/public/simple/\n",
            "Collecting mecab-python3\n",
            "  Downloading mecab_python3-1.0.6-cp38-cp38-manylinux_2_17_x86_64.manylinux2014_x86_64.whl (577 kB)\n",
            "\u001b[2K     \u001b[90m━━━━━━━━━━━━━━━━━━━━━━━━━━━━━━━━━━━━━━\u001b[0m \u001b[32m577.8/577.8 KB\u001b[0m \u001b[31m28.2 MB/s\u001b[0m eta \u001b[36m0:00:00\u001b[0m\n",
            "\u001b[?25hInstalling collected packages: mecab-python3\n",
            "Successfully installed mecab-python3-1.0.6\n"
          ]
        }
      ]
    },
    {
      "cell_type": "code",
      "execution_count": 23,
      "metadata": {
        "colab": {
          "base_uri": "https://localhost:8080/"
        },
        "id": "OC2dvpACIlvj",
        "outputId": "eece1452-14d4-4a66-e5c4-c80d78e7f830"
      },
      "outputs": [
        {
          "output_type": "stream",
          "name": "stderr",
          "text": [
            "Asking to truncate to max_length but no maximum length is provided and the model has no predefined maximum length. Default to no truncation.\n"
          ]
        },
        {
          "output_type": "stream",
          "name": "stdout",
          "text": [
            "model loaded!\n",
            "{\n",
            "  \"sequence\": \"To avoid plagiarism issues, please refer to the code on the Google Colab\",\n",
            "  \"labels\": [\n",
            "    \"technology\",\n",
            "    \"social\",\n",
            "    \"activity\",\n",
            "    \"algorithms\",\n",
            "    \"travel\",\n",
            "    \"series\",\n",
            "    \"health\",\n",
            "    \"family\",\n",
            "    \"job\",\n",
            "    \"cooking\",\n",
            "    \"movies\",\n",
            "    \"entertainment\",\n",
            "    \"friends\",\n",
            "    \"dancing\",\n",
            "    \"happiness\"\n",
            "  ],\n",
            "  \"scores\": [\n",
            "    0.5289000272750854,\n",
            "    0.25394248962402344,\n",
            "    0.22862575948238373,\n",
            "    0.21224497258663177,\n",
            "    0.10091692954301834,\n",
            "    0.09477368742227554,\n",
            "    0.06666842103004456,\n",
            "    0.06201644986867905,\n",
            "    0.041554179042577744,\n",
            "    0.031228413805365562,\n",
            "    0.02283315360546112,\n",
            "    0.017696712166070938,\n",
            "    0.013975279405713081,\n",
            "    0.00899865385144949,\n",
            "    0.0058839586563408375\n",
            "  ]\n",
            "}\n",
            "Total runtime of the program is 0.6104580163955688 is, 0.04069720109303792 per label\n"
          ]
        }
      ],
      "source": [
        "import json\n",
        "from transformers import pipeline\n",
        "import time\n",
        "import torch\n",
        "\n",
        "torch.cuda.is_available()\n",
        "\n",
        "labels = ['travel', 'friends','series','movies','entertainment','technology','family' ,'algorithms','cooking', 'job' , 'dancing','health','happiness','activity','social']\n",
        "\n",
        "# classifier = pipeline (\"zero-shot-classification\", model = \"facebook/bart-large-mnli\")                  # 1.63 Gb 0.4384075531592736 per label\n",
        "# classifier = pipeline(\"zero-shot-classification\", model=\"MoritzLaurer/mDeBERTa-v3-base-mnli-xnli\")      # 558  Mb 0.313440519112807 per label\n",
        "# classifier = pipeline(\"zero-shot-classification\", model=\"BaptisteDoyen/camembert-base-xnli\")            # 443 Mb 0.12476613338177021 per label\n",
        "# classifier = pipeline(\"zero-shot-classification\", model=\"typeform/distilbert-base-uncased-mnli\")        # 268 Mb 0.05824783215155968 per label\n",
        "# classifier = pipeline(\"zero-shot-classification\", model=\"valhalla/distilbart-mnli-12-1\")                # 890 Mb 0.20728054413428673 per label \n",
        "# classifier = pipeline(\"zero-shot-classification\", model=\"MoritzLaurer/DeBERTa-v3-base-mnli-fever-anli\") # 369 Mb 0.3029702296623817 per label \n",
        "# classifier = pipeline(\"zero-shot-classification\", model=\"cross-encoder/nli-deberta-v3-base\")            # 738 Mb 0.30590915496532733 per label\n",
        "# classifier = pipeline(\"zero-shot-classification\", model=\"cross-encoder/nli-deberta-v3-small\")           # 568 Mb 0.15964309252225434 per label\n",
        "# classifier = pipeline(\"zero-shot-classification\", model=\"cross-encoder/nli-MiniLM2-L6-H768\")            # 329 Mb 0.055275693306556115 per label\n",
        "classifier = pipeline(\"zero-shot-classification\", model=\"typeform/mobilebert-uncased-mnli\")             # 99 Mb 0.03554045275637978 per label\n",
        "# classifier = pipeline(\"zero-shot-classification\", model=\"Recognai/zeroshot_selectra_medium\")            # 163 Mb 0.03785876310788668 per label\n",
        "# classifier = pipeline(\"zero-shot-classification\", model=\"Recognai/zeroshot_selectra_small\")             # 90 Mb 0.019344867978777207 per label\n",
        "\n",
        "\n",
        "\n",
        "print(\"model loaded!\")\n",
        "\n",
        "\n",
        "def classify(prompt,multi_label=True,loop=10):\n",
        "    begin = time.time()\n",
        "    for i in range(loop):\n",
        "      result = classifier(prompt, labels,multi_label=multi_label)\n",
        "    end = time.time()\n",
        "    print(json.dumps(result,indent=\"  \"))\n",
        "    # total time taken\n",
        "    gap = (end - begin)/10\n",
        "    print(f\"Total runtime of the program is {gap} is, {gap/len(labels)} per label\")\n",
        "\n",
        "\n",
        "classify(\"To avoid plagiarism issues, please refer to the code on the Google Colab\")\n"
      ]
    },
    {
      "cell_type": "code",
      "source": [
        "classify(\"Got up early at 04:40 to drive my mom to the airport Went back to sleep til 09:00\",loop=1)"
      ],
      "metadata": {
        "colab": {
          "base_uri": "https://localhost:8080/"
        },
        "id": "Ce15uviiLf7p",
        "outputId": "988173db-d5a2-449b-9148-bdd451958ecf"
      },
      "execution_count": 24,
      "outputs": [
        {
          "output_type": "stream",
          "name": "stdout",
          "text": [
            "{\n",
            "  \"sequence\": \"Got up early at 04:40 to drive my mom to the airport Went back to sleep til 09:00\",\n",
            "  \"labels\": [\n",
            "    \"social\",\n",
            "    \"activity\",\n",
            "    \"family\",\n",
            "    \"entertainment\",\n",
            "    \"health\",\n",
            "    \"travel\",\n",
            "    \"algorithms\",\n",
            "    \"job\",\n",
            "    \"happiness\",\n",
            "    \"series\",\n",
            "    \"cooking\",\n",
            "    \"movies\",\n",
            "    \"technology\",\n",
            "    \"friends\",\n",
            "    \"dancing\"\n",
            "  ],\n",
            "  \"scores\": [\n",
            "    0.912135660648346,\n",
            "    0.9059642553329468,\n",
            "    0.6507245898246765,\n",
            "    0.6373061537742615,\n",
            "    0.5867769122123718,\n",
            "    0.5659762024879456,\n",
            "    0.19942346215248108,\n",
            "    0.16412216424942017,\n",
            "    0.1610601544380188,\n",
            "    0.1586294025182724,\n",
            "    0.09640653431415558,\n",
            "    0.07738259434700012,\n",
            "    0.04231642559170723,\n",
            "    0.02215701900422573,\n",
            "    0.021515414118766785\n",
            "  ]\n",
            "}\n",
            "Total runtime of the program is 0.0603635311126709 is, 0.004024235407511393 per label\n"
          ]
        }
      ]
    },
    {
      "cell_type": "code",
      "source": [
        "classify(\"Watched Netflix series Kaleidiscope with jake\",loop=1)"
      ],
      "metadata": {
        "colab": {
          "base_uri": "https://localhost:8080/"
        },
        "id": "s4V_bVzsJMRA",
        "outputId": "534095ac-6cbf-49ba-c77a-73c40d907ff7"
      },
      "execution_count": 28,
      "outputs": [
        {
          "output_type": "stream",
          "name": "stdout",
          "text": [
            "{\n",
            "  \"sequence\": \"Watched Netflix series Kaleidiscope with jake\",\n",
            "  \"labels\": [\n",
            "    \"series\",\n",
            "    \"activity\",\n",
            "    \"travel\",\n",
            "    \"social\",\n",
            "    \"entertainment\",\n",
            "    \"family\",\n",
            "    \"algorithms\",\n",
            "    \"movies\",\n",
            "    \"job\",\n",
            "    \"friends\",\n",
            "    \"technology\",\n",
            "    \"dancing\",\n",
            "    \"happiness\",\n",
            "    \"health\",\n",
            "    \"cooking\"\n",
            "  ],\n",
            "  \"scores\": [\n",
            "    0.8246340751647949,\n",
            "    0.8004382848739624,\n",
            "    0.5025167465209961,\n",
            "    0.5000870823860168,\n",
            "    0.4723190367221832,\n",
            "    0.2099054753780365,\n",
            "    0.1343669444322586,\n",
            "    0.07104060798883438,\n",
            "    0.05750013515353203,\n",
            "    0.04688529670238495,\n",
            "    0.034444063901901245,\n",
            "    0.03394891694188118,\n",
            "    0.02608572505414486,\n",
            "    0.020000776275992393,\n",
            "    0.016639888286590576\n",
            "  ]\n",
            "}\n",
            "Total runtime of the program is 0.05171303749084473 is, 0.003447535832722982 per label\n"
          ]
        }
      ]
    }
  ]
}